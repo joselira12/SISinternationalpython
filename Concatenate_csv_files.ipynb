{
 "cells": [
  {
   "cell_type": "code",
   "execution_count": 13,
   "metadata": {},
   "outputs": [],
   "source": [
    "import os\n",
    "import glob\n",
    "import pandas as pd\n",
    "import openpyxl\n",
    "import numpy as np"
   ]
  },
  {
   "cell_type": "code",
   "execution_count": 14,
   "metadata": {},
   "outputs": [
    {
     "data": {
      "text/plain": [
       "'C:\\\\Users\\\\josel\\\\OneDrive - EAE Business School\\\\Documentos\\\\SIS International\\\\Concatenate'"
      ]
     },
     "execution_count": 14,
     "metadata": {},
     "output_type": "execute_result"
    }
   ],
   "source": [
    "pwd"
   ]
  },
  {
   "cell_type": "code",
   "execution_count": 15,
   "metadata": {},
   "outputs": [],
   "source": [
    "os.chdir('C:\\\\Users\\\\josel\\\\OneDrive - EAE Business School\\\\Documentos\\\\SIS International\\\\Concatenate')"
   ]
  },
  {
   "cell_type": "code",
   "execution_count": 16,
   "metadata": {},
   "outputs": [
    {
     "data": {
      "text/plain": [
       "'C:\\\\Users\\\\josel\\\\OneDrive - EAE Business School\\\\Documentos\\\\SIS International\\\\Concatenate'"
      ]
     },
     "execution_count": 16,
     "metadata": {},
     "output_type": "execute_result"
    }
   ],
   "source": [
    "pwd"
   ]
  },
  {
   "cell_type": "code",
   "execution_count": 17,
   "metadata": {},
   "outputs": [],
   "source": [
    "file_extension = '.csv'\n",
    "all_filenames = [i for i in glob.glob(f\"*{file_extension}\")]"
   ]
  },
  {
   "cell_type": "code",
   "execution_count": 18,
   "metadata": {},
   "outputs": [
    {
     "name": "stdout",
     "output_type": "stream",
     "text": [
      "These are all of the filenames ending in .csv ['cios-in-nyc.csv', 'it-cloud-directors-nyc-wednesday.csv', 'IT.csv', 'new-cto-list-melissa-checkpoint.csv', 'nyc-cloud-it-tech-managers-senior-level.csv', 'RADIUS CLOUD IT HUNT.csv', 'RADIUS IT CLOUD MANAGERS Hunt.csv', 'radius-4pm USA IT Management Companies.csv', 'radius-5pm-967142.csv', 'radius-6pm-967171.csv', 'radius-7pm USA IT.csv', 'radius-it-3pm USA.csv', 'Radius-managed1.csv'].\n"
     ]
    }
   ],
   "source": [
    "print(f\"These are all of the filenames ending in .csv {all_filenames}.\")"
   ]
  },
  {
   "cell_type": "code",
   "execution_count": 19,
   "metadata": {},
   "outputs": [],
   "source": [
    "#List of column names\n",
    "#for f in range(len(all_filenames)):\n",
    "#    df=pd.read_csv(all_filenames[f])\n",
    "#    print(str(all_filenames[f]))\n",
    "#   print(df.columns)"
   ]
  },
  {
   "cell_type": "code",
   "execution_count": 20,
   "metadata": {},
   "outputs": [
    {
     "data": {
      "text/html": [
       "<div>\n",
       "<style scoped>\n",
       "    .dataframe tbody tr th:only-of-type {\n",
       "        vertical-align: middle;\n",
       "    }\n",
       "\n",
       "    .dataframe tbody tr th {\n",
       "        vertical-align: top;\n",
       "    }\n",
       "\n",
       "    .dataframe thead th {\n",
       "        text-align: right;\n",
       "    }\n",
       "</style>\n",
       "<table border=\"1\" class=\"dataframe\">\n",
       "  <thead>\n",
       "    <tr style=\"text-align: right;\">\n",
       "      <th></th>\n",
       "      <th>Unnamed: 0</th>\n",
       "      <th>first name</th>\n",
       "      <th>Email</th>\n",
       "    </tr>\n",
       "  </thead>\n",
       "  <tbody>\n",
       "    <tr>\n",
       "      <th>0</th>\n",
       "      <td>0</td>\n",
       "      <td>Stern</td>\n",
       "      <td>sj@shu.edu</td>\n",
       "    </tr>\n",
       "    <tr>\n",
       "      <th>1</th>\n",
       "      <td>1</td>\n",
       "      <td>Bob</td>\n",
       "      <td>k-b@infragard.org</td>\n",
       "    </tr>\n",
       "    <tr>\n",
       "      <th>2</th>\n",
       "      <td>2</td>\n",
       "      <td>Faith E.</td>\n",
       "      <td>FAITH.VICINANZA@adp.com</td>\n",
       "    </tr>\n",
       "    <tr>\n",
       "      <th>3</th>\n",
       "      <td>3</td>\n",
       "      <td>Megan</td>\n",
       "      <td>Megan.Maguire@rsa.com</td>\n",
       "    </tr>\n",
       "    <tr>\n",
       "      <th>4</th>\n",
       "      <td>4</td>\n",
       "      <td>Kang</td>\n",
       "      <td>kangchen@columbia.edu</td>\n",
       "    </tr>\n",
       "    <tr>\n",
       "      <th>...</th>\n",
       "      <td>...</td>\n",
       "      <td>...</td>\n",
       "      <td>...</td>\n",
       "    </tr>\n",
       "    <tr>\n",
       "      <th>3026</th>\n",
       "      <td>3026</td>\n",
       "      <td>Susan</td>\n",
       "      <td>Susan@Prudential.com</td>\n",
       "    </tr>\n",
       "    <tr>\n",
       "      <th>3027</th>\n",
       "      <td>3027</td>\n",
       "      <td>Donna</td>\n",
       "      <td>donna@wmg.com</td>\n",
       "    </tr>\n",
       "    <tr>\n",
       "      <th>3028</th>\n",
       "      <td>3028</td>\n",
       "      <td>Jim</td>\n",
       "      <td>jim@nyc.gov</td>\n",
       "    </tr>\n",
       "    <tr>\n",
       "      <th>3029</th>\n",
       "      <td>3029</td>\n",
       "      <td>Lisa</td>\n",
       "      <td>lisa.baldwin@tiffany.com</td>\n",
       "    </tr>\n",
       "    <tr>\n",
       "      <th>3030</th>\n",
       "      <td>3030</td>\n",
       "      <td>Lisa</td>\n",
       "      <td>baldwin.lisa@tiffany.com</td>\n",
       "    </tr>\n",
       "  </tbody>\n",
       "</table>\n",
       "<p>3031 rows × 3 columns</p>\n",
       "</div>"
      ],
      "text/plain": [
       "      Unnamed: 0 first name                     Email\n",
       "0              0      Stern                sj@shu.edu\n",
       "1              1        Bob         k-b@infragard.org\n",
       "2              2   Faith E.   FAITH.VICINANZA@adp.com\n",
       "3              3      Megan     Megan.Maguire@rsa.com\n",
       "4              4       Kang     kangchen@columbia.edu\n",
       "...          ...        ...                       ...\n",
       "3026        3026      Susan      Susan@Prudential.com\n",
       "3027        3027      Donna             donna@wmg.com\n",
       "3028        3028        Jim               jim@nyc.gov\n",
       "3029        3029       Lisa  lisa.baldwin@tiffany.com\n",
       "3030        3030       Lisa  baldwin.lisa@tiffany.com\n",
       "\n",
       "[3031 rows x 3 columns]"
      ]
     },
     "execution_count": 20,
     "metadata": {},
     "output_type": "execute_result"
    }
   ],
   "source": [
    "df = pd.read_csv(all_filenames[0])\n",
    "#,usecols=['Email address','First name']\n",
    "#df.to_csv(str(all_filenames[0])+'_1.csv')\n",
    "df"
   ]
  },
  {
   "cell_type": "code",
   "execution_count": 21,
   "metadata": {},
   "outputs": [],
   "source": [
    "combined_csv_data = pd.concat([pd.read_csv(f) for f in all_filenames])\n",
    "#,usecols=['First name','Email address']"
   ]
  },
  {
   "cell_type": "code",
   "execution_count": 23,
   "metadata": {},
   "outputs": [],
   "source": [
    "combined_csv_data['first name'].replace(np.nan,'Colleague',inplace=True)"
   ]
  },
  {
   "cell_type": "code",
   "execution_count": 24,
   "metadata": {},
   "outputs": [
    {
     "data": {
      "text/html": [
       "<div>\n",
       "<style scoped>\n",
       "    .dataframe tbody tr th:only-of-type {\n",
       "        vertical-align: middle;\n",
       "    }\n",
       "\n",
       "    .dataframe tbody tr th {\n",
       "        vertical-align: top;\n",
       "    }\n",
       "\n",
       "    .dataframe thead th {\n",
       "        text-align: right;\n",
       "    }\n",
       "</style>\n",
       "<table border=\"1\" class=\"dataframe\">\n",
       "  <thead>\n",
       "    <tr style=\"text-align: right;\">\n",
       "      <th></th>\n",
       "      <th>Unnamed: 0</th>\n",
       "      <th>first name</th>\n",
       "      <th>Email</th>\n",
       "    </tr>\n",
       "  </thead>\n",
       "  <tbody>\n",
       "    <tr>\n",
       "      <th>0</th>\n",
       "      <td>0</td>\n",
       "      <td>Stern</td>\n",
       "      <td>sj@shu.edu</td>\n",
       "    </tr>\n",
       "    <tr>\n",
       "      <th>1</th>\n",
       "      <td>1</td>\n",
       "      <td>Bob</td>\n",
       "      <td>k-b@infragard.org</td>\n",
       "    </tr>\n",
       "    <tr>\n",
       "      <th>2</th>\n",
       "      <td>2</td>\n",
       "      <td>Faith E.</td>\n",
       "      <td>FAITH.VICINANZA@adp.com</td>\n",
       "    </tr>\n",
       "    <tr>\n",
       "      <th>3</th>\n",
       "      <td>3</td>\n",
       "      <td>Megan</td>\n",
       "      <td>Megan.Maguire@rsa.com</td>\n",
       "    </tr>\n",
       "    <tr>\n",
       "      <th>4</th>\n",
       "      <td>4</td>\n",
       "      <td>Kang</td>\n",
       "      <td>kangchen@columbia.edu</td>\n",
       "    </tr>\n",
       "    <tr>\n",
       "      <th>...</th>\n",
       "      <td>...</td>\n",
       "      <td>...</td>\n",
       "      <td>...</td>\n",
       "    </tr>\n",
       "    <tr>\n",
       "      <th>22739</th>\n",
       "      <td>22739</td>\n",
       "      <td>Jim</td>\n",
       "      <td>0</td>\n",
       "    </tr>\n",
       "    <tr>\n",
       "      <th>22740</th>\n",
       "      <td>22740</td>\n",
       "      <td>Linda</td>\n",
       "      <td>lhaskell@equinix.com</td>\n",
       "    </tr>\n",
       "    <tr>\n",
       "      <th>22741</th>\n",
       "      <td>22741</td>\n",
       "      <td>Eric</td>\n",
       "      <td>ekristoff@equinix.com</td>\n",
       "    </tr>\n",
       "    <tr>\n",
       "      <th>22742</th>\n",
       "      <td>22742</td>\n",
       "      <td>Kyle</td>\n",
       "      <td>kbowden@amdcomm.com</td>\n",
       "    </tr>\n",
       "    <tr>\n",
       "      <th>22743</th>\n",
       "      <td>22743</td>\n",
       "      <td>Alexander</td>\n",
       "      <td>achatani@equinix.com</td>\n",
       "    </tr>\n",
       "  </tbody>\n",
       "</table>\n",
       "<p>89340 rows × 3 columns</p>\n",
       "</div>"
      ],
      "text/plain": [
       "       Unnamed: 0 first name                    Email\n",
       "0               0      Stern               sj@shu.edu\n",
       "1               1        Bob        k-b@infragard.org\n",
       "2               2   Faith E.  FAITH.VICINANZA@adp.com\n",
       "3               3      Megan    Megan.Maguire@rsa.com\n",
       "4               4       Kang    kangchen@columbia.edu\n",
       "...           ...        ...                      ...\n",
       "22739       22739        Jim                        0\n",
       "22740       22740      Linda     lhaskell@equinix.com\n",
       "22741       22741       Eric    ekristoff@equinix.com\n",
       "22742       22742       Kyle      kbowden@amdcomm.com\n",
       "22743       22743  Alexander     achatani@equinix.com\n",
       "\n",
       "[89340 rows x 3 columns]"
      ]
     },
     "execution_count": 24,
     "metadata": {},
     "output_type": "execute_result"
    }
   ],
   "source": [
    "combined_csv_data"
   ]
  },
  {
   "cell_type": "code",
   "execution_count": 25,
   "metadata": {},
   "outputs": [],
   "source": [
    "combined_csv_data.drop_duplicates(subset=['Email'],inplace=True)"
   ]
  },
  {
   "cell_type": "code",
   "execution_count": 26,
   "metadata": {},
   "outputs": [],
   "source": [
    "combined_csv_data.dropna(subset=['Email'],inplace=True)"
   ]
  },
  {
   "cell_type": "code",
   "execution_count": 15,
   "metadata": {},
   "outputs": [],
   "source": [
    "combined_csv_data['Domain']=combined_csv_data['Email address'].str.split('@').str[-1]"
   ]
  },
  {
   "cell_type": "code",
   "execution_count": 27,
   "metadata": {},
   "outputs": [],
   "source": [
    "combined_csv_data.to_csv('combined_csv_data.csv') "
   ]
  },
  {
   "cell_type": "code",
   "execution_count": 28,
   "metadata": {},
   "outputs": [
    {
     "data": {
      "text/html": [
       "<div>\n",
       "<style scoped>\n",
       "    .dataframe tbody tr th:only-of-type {\n",
       "        vertical-align: middle;\n",
       "    }\n",
       "\n",
       "    .dataframe tbody tr th {\n",
       "        vertical-align: top;\n",
       "    }\n",
       "\n",
       "    .dataframe thead th {\n",
       "        text-align: right;\n",
       "    }\n",
       "</style>\n",
       "<table border=\"1\" class=\"dataframe\">\n",
       "  <thead>\n",
       "    <tr style=\"text-align: right;\">\n",
       "      <th></th>\n",
       "      <th>Unnamed: 0</th>\n",
       "      <th>first name</th>\n",
       "      <th>Email</th>\n",
       "    </tr>\n",
       "  </thead>\n",
       "  <tbody>\n",
       "    <tr>\n",
       "      <th>0</th>\n",
       "      <td>0</td>\n",
       "      <td>Stern</td>\n",
       "      <td>sj@shu.edu</td>\n",
       "    </tr>\n",
       "    <tr>\n",
       "      <th>1</th>\n",
       "      <td>1</td>\n",
       "      <td>Bob</td>\n",
       "      <td>k-b@infragard.org</td>\n",
       "    </tr>\n",
       "    <tr>\n",
       "      <th>2</th>\n",
       "      <td>2</td>\n",
       "      <td>Faith E.</td>\n",
       "      <td>FAITH.VICINANZA@adp.com</td>\n",
       "    </tr>\n",
       "    <tr>\n",
       "      <th>3</th>\n",
       "      <td>3</td>\n",
       "      <td>Megan</td>\n",
       "      <td>Megan.Maguire@rsa.com</td>\n",
       "    </tr>\n",
       "    <tr>\n",
       "      <th>4</th>\n",
       "      <td>4</td>\n",
       "      <td>Kang</td>\n",
       "      <td>kangchen@columbia.edu</td>\n",
       "    </tr>\n",
       "    <tr>\n",
       "      <th>...</th>\n",
       "      <td>...</td>\n",
       "      <td>...</td>\n",
       "      <td>...</td>\n",
       "    </tr>\n",
       "    <tr>\n",
       "      <th>22737</th>\n",
       "      <td>22737</td>\n",
       "      <td>David</td>\n",
       "      <td>david.minkoff@tierpoint.com</td>\n",
       "    </tr>\n",
       "    <tr>\n",
       "      <th>22738</th>\n",
       "      <td>22738</td>\n",
       "      <td>Ralph</td>\n",
       "      <td>rthomasii@yahoo.com</td>\n",
       "    </tr>\n",
       "    <tr>\n",
       "      <th>22740</th>\n",
       "      <td>22740</td>\n",
       "      <td>Linda</td>\n",
       "      <td>lhaskell@equinix.com</td>\n",
       "    </tr>\n",
       "    <tr>\n",
       "      <th>22741</th>\n",
       "      <td>22741</td>\n",
       "      <td>Eric</td>\n",
       "      <td>ekristoff@equinix.com</td>\n",
       "    </tr>\n",
       "    <tr>\n",
       "      <th>22743</th>\n",
       "      <td>22743</td>\n",
       "      <td>Alexander</td>\n",
       "      <td>achatani@equinix.com</td>\n",
       "    </tr>\n",
       "  </tbody>\n",
       "</table>\n",
       "<p>80648 rows × 3 columns</p>\n",
       "</div>"
      ],
      "text/plain": [
       "       Unnamed: 0 first name                        Email\n",
       "0               0      Stern                   sj@shu.edu\n",
       "1               1        Bob            k-b@infragard.org\n",
       "2               2   Faith E.      FAITH.VICINANZA@adp.com\n",
       "3               3      Megan        Megan.Maguire@rsa.com\n",
       "4               4       Kang        kangchen@columbia.edu\n",
       "...           ...        ...                          ...\n",
       "22737       22737      David  david.minkoff@tierpoint.com\n",
       "22738       22738      Ralph          rthomasii@yahoo.com\n",
       "22740       22740      Linda         lhaskell@equinix.com\n",
       "22741       22741       Eric        ekristoff@equinix.com\n",
       "22743       22743  Alexander         achatani@equinix.com\n",
       "\n",
       "[80648 rows x 3 columns]"
      ]
     },
     "execution_count": 28,
     "metadata": {},
     "output_type": "execute_result"
    }
   ],
   "source": [
    "combined_csv_data"
   ]
  },
  {
   "cell_type": "code",
   "execution_count": null,
   "metadata": {},
   "outputs": [],
   "source": []
  },
  {
   "cell_type": "code",
   "execution_count": null,
   "metadata": {},
   "outputs": [],
   "source": []
  }
 ],
 "metadata": {
  "kernelspec": {
   "display_name": "Python 3 (ipykernel)",
   "language": "python",
   "name": "python3"
  },
  "language_info": {
   "codemirror_mode": {
    "name": "ipython",
    "version": 3
   },
   "file_extension": ".py",
   "mimetype": "text/x-python",
   "name": "python",
   "nbconvert_exporter": "python",
   "pygments_lexer": "ipython3",
   "version": "3.9.7"
  }
 },
 "nbformat": 4,
 "nbformat_minor": 4
}
