{
 "cells": [
  {
   "cell_type": "code",
   "execution_count": 28,
   "id": "ee0fe589",
   "metadata": {},
   "outputs": [],
   "source": [
    "import os\n",
    "import glob\n",
    "import pandas as pd\n",
    "import openpyxl\n",
    "from datetime import date"
   ]
  },
  {
   "cell_type": "code",
   "execution_count": 29,
   "id": "4edb0d08",
   "metadata": {},
   "outputs": [],
   "source": [
    "today = date.today()\n",
    "d1 = today.strftime(\"%Y%m%d\")"
   ]
  },
  {
   "cell_type": "code",
   "execution_count": 30,
   "id": "71e34c2e",
   "metadata": {},
   "outputs": [
    {
     "data": {
      "text/plain": [
       "'C:\\\\Users\\\\josel\\\\OneDrive - EAE Business School\\\\Documentos\\\\SIS International\\\\Snovs'"
      ]
     },
     "execution_count": 30,
     "metadata": {},
     "output_type": "execute_result"
    }
   ],
   "source": [
    "pwd"
   ]
  },
  {
   "cell_type": "code",
   "execution_count": 31,
   "id": "d8a636b4",
   "metadata": {},
   "outputs": [],
   "source": [
    "os.chdir('C:\\\\Users\\\\josel\\\\OneDrive - EAE Business School\\\\Documentos\\\\SIS International\\\\Snovs')"
   ]
  },
  {
   "cell_type": "code",
   "execution_count": 32,
   "id": "1a29a706",
   "metadata": {},
   "outputs": [],
   "source": [
    "file_extension = '.csv'\n",
    "all_filenames = [i for i in glob.glob(f\"*{file_extension}\")]"
   ]
  },
  {
   "cell_type": "code",
   "execution_count": 33,
   "id": "ae20fc70",
   "metadata": {},
   "outputs": [
    {
     "data": {
      "text/plain": [
       "['Savanta_2_-_France_-_temporary_building.csv',\n",
       " 'Savanta_2_-_France_-_temporary_building_20220620_ru.csv']"
      ]
     },
     "execution_count": 33,
     "metadata": {},
     "output_type": "execute_result"
    }
   ],
   "source": [
    "all_filenames"
   ]
  },
  {
   "cell_type": "code",
   "execution_count": 34,
   "id": "59ce618c",
   "metadata": {},
   "outputs": [],
   "source": [
    "for i in all_filenames:\n",
    "    os.rename(str(i),str(i.replace(\" \",\"_\")))"
   ]
  },
  {
   "cell_type": "code",
   "execution_count": 35,
   "id": "843730bc",
   "metadata": {},
   "outputs": [],
   "source": [
    "file_extension = '.csv'\n",
    "all_filenames = [i for i in glob.glob(f\"*{file_extension}\")]"
   ]
  },
  {
   "cell_type": "code",
   "execution_count": 36,
   "id": "92238061",
   "metadata": {},
   "outputs": [],
   "source": [
    "for i in all_filenames:\n",
    "    os.system('python select_filter_rampedup_for_greenarrow.py '+str(i))"
   ]
  },
  {
   "cell_type": "code",
   "execution_count": 37,
   "id": "f402f22a",
   "metadata": {},
   "outputs": [],
   "source": [
    "file_extension = '.csv'\n",
    "all_filenames = [i for i in glob.glob(f\"*{file_extension}\")]"
   ]
  },
  {
   "cell_type": "code",
   "execution_count": 38,
   "id": "7f558663",
   "metadata": {},
   "outputs": [
    {
     "ename": "FileExistsError",
     "evalue": "[WinError 183] Cannot create a file when that file already exists: 'Savanta_2_-_France_-_temporary_building_selected_rows.csv' -> 'Savanta_2_-_France_-_temporary_building_20220620_ru.csv'",
     "output_type": "error",
     "traceback": [
      "\u001b[1;31m---------------------------------------------------------------------------\u001b[0m",
      "\u001b[1;31mFileExistsError\u001b[0m                           Traceback (most recent call last)",
      "\u001b[1;32m~\\AppData\\Local\\Temp/ipykernel_19080/2765040958.py\u001b[0m in \u001b[0;36m<module>\u001b[1;34m\u001b[0m\n\u001b[0;32m      2\u001b[0m     \u001b[1;32mif\u001b[0m \u001b[1;34m'selected_rows'\u001b[0m \u001b[1;32min\u001b[0m \u001b[0mstr\u001b[0m\u001b[1;33m(\u001b[0m\u001b[0mi\u001b[0m\u001b[1;33m)\u001b[0m\u001b[1;33m:\u001b[0m\u001b[1;33m\u001b[0m\u001b[1;33m\u001b[0m\u001b[0m\n\u001b[0;32m      3\u001b[0m         \u001b[0mnew_name\u001b[0m\u001b[1;33m=\u001b[0m\u001b[0mstr\u001b[0m\u001b[1;33m(\u001b[0m\u001b[0mi\u001b[0m\u001b[1;33m)\u001b[0m\u001b[1;33m[\u001b[0m\u001b[1;33m:\u001b[0m\u001b[1;33m-\u001b[0m\u001b[1;36m17\u001b[0m\u001b[1;33m]\u001b[0m\u001b[1;33m+\u001b[0m\u001b[0mstr\u001b[0m\u001b[1;33m(\u001b[0m\u001b[0md1\u001b[0m\u001b[1;33m)\u001b[0m\u001b[1;33m+\u001b[0m\u001b[1;34m'_ru.csv'\u001b[0m\u001b[1;33m\u001b[0m\u001b[1;33m\u001b[0m\u001b[0m\n\u001b[1;32m----> 4\u001b[1;33m         \u001b[0mos\u001b[0m\u001b[1;33m.\u001b[0m\u001b[0mrename\u001b[0m\u001b[1;33m(\u001b[0m\u001b[0mstr\u001b[0m\u001b[1;33m(\u001b[0m\u001b[0mi\u001b[0m\u001b[1;33m)\u001b[0m\u001b[1;33m,\u001b[0m\u001b[0mnew_name\u001b[0m\u001b[1;33m)\u001b[0m\u001b[1;33m\u001b[0m\u001b[1;33m\u001b[0m\u001b[0m\n\u001b[0m",
      "\u001b[1;31mFileExistsError\u001b[0m: [WinError 183] Cannot create a file when that file already exists: 'Savanta_2_-_France_-_temporary_building_selected_rows.csv' -> 'Savanta_2_-_France_-_temporary_building_20220620_ru.csv'"
     ]
    }
   ],
   "source": [
    "for i in all_filenames:\n",
    "    if 'selected_rows' in str(i):\n",
    "        new_name=str(i)[:-17]+str(d1)+'_ru.csv'\n",
    "        os.rename(str(i),new_name)  "
   ]
  },
  {
   "cell_type": "code",
   "execution_count": 27,
   "id": "4b87ea95",
   "metadata": {},
   "outputs": [],
   "source": [
    "#for i in all_filenames:\n",
    "    #new_name=str(i)[:-17]+str(d1)+'_ru.csv'\n",
    "    #os.rename(str(i),new_name)"
   ]
  },
  {
   "cell_type": "code",
   "execution_count": null,
   "id": "dbc437e5",
   "metadata": {},
   "outputs": [],
   "source": []
  },
  {
   "cell_type": "code",
   "execution_count": null,
   "id": "3c0e45fb",
   "metadata": {},
   "outputs": [],
   "source": []
  },
  {
   "cell_type": "code",
   "execution_count": null,
   "id": "ca5ccd2d",
   "metadata": {},
   "outputs": [],
   "source": []
  },
  {
   "cell_type": "code",
   "execution_count": null,
   "id": "b3f1e588",
   "metadata": {},
   "outputs": [],
   "source": []
  }
 ],
 "metadata": {
  "kernelspec": {
   "display_name": "Python 3 (ipykernel)",
   "language": "python",
   "name": "python3"
  },
  "language_info": {
   "codemirror_mode": {
    "name": "ipython",
    "version": 3
   },
   "file_extension": ".py",
   "mimetype": "text/x-python",
   "name": "python",
   "nbconvert_exporter": "python",
   "pygments_lexer": "ipython3",
   "version": "3.9.7"
  }
 },
 "nbformat": 4,
 "nbformat_minor": 5
}
